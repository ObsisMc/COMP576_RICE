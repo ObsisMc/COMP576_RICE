{
 "cells": [
  {
   "cell_type": "code",
   "execution_count": 59,
   "metadata": {
    "collapsed": true
   },
   "outputs": [],
   "source": [
    "import numpy as np\n",
    "from numpy import linalg"
   ]
  },
  {
   "cell_type": "code",
   "execution_count": 60,
   "metadata": {
    "pycharm": {
     "name": "#%%\n"
    }
   },
   "outputs": [
    {
     "name": "stdout",
     "output_type": "stream",
     "text": [
      "[[ 0  1  2  3  4]\n",
      " [ 5  6  7  8  9]\n",
      " [10 11 12 13 14]\n",
      " [15 16 17 18 19]\n",
      " [20 21 22 23 24]\n",
      " [25 26 27 28 29]]\n",
      "[[ 0  1  2  3  4  0  1  2  3  4]\n",
      " [ 5  6  7  8  9  5  6  7  8  9]\n",
      " [10 11 12 13 14 10 11 12 13 14]\n",
      " [15 16 17 18 19 15 16 17 18 19]\n",
      " [20 21 22 23 24 20 21 22 23 24]\n",
      " [25 26 27 28 29 25 26 27 28 29]\n",
      " [ 0  1  2  3  4  0  1  2  3  4]\n",
      " [ 5  6  7  8  9  5  6  7  8  9]\n",
      " [10 11 12 13 14 10 11 12 13 14]\n",
      " [15 16 17 18 19 15 16 17 18 19]\n",
      " [20 21 22 23 24 20 21 22 23 24]\n",
      " [25 26 27 28 29 25 26 27 28 29]]\n"
     ]
    }
   ],
   "source": [
    "a = np.array([i for i in range(30)]).reshape(6,5)\n",
    "block = np.block([[a,a],[a,a]])\n",
    "print(a)\n",
    "print(block)"
   ]
  },
  {
   "cell_type": "code",
   "execution_count": 61,
   "metadata": {
    "pycharm": {
     "name": "#%%\n"
    }
   },
   "outputs": [
    {
     "name": "stdout",
     "output_type": "stream",
     "text": [
      "Dim:  2\n",
      "Size:  30\n",
      "Shape: (6, 5)\n",
      "Shape[1]: 5\n"
     ]
    }
   ],
   "source": [
    "print(\"Dim: \", a.ndim)\n",
    "print(\"Size: \", a.size)\n",
    "print(f\"Shape: {a.shape}\")\n",
    "print(f\"Shape[1]: {a.shape[1]}\")"
   ]
  },
  {
   "cell_type": "code",
   "execution_count": 62,
   "metadata": {
    "pycharm": {
     "name": "#%%\n"
    }
   },
   "outputs": [
    {
     "name": "stdout",
     "output_type": "stream",
     "text": [
      "- a[-1]: \n",
      "[25 26 27 28 29]\n",
      "- a[1,4]: \n",
      "9\n",
      "- a[1,:]: \n",
      "[5 6 7 8 9]\n",
      "- a[0:3, :]: \n",
      "[[ 0  1  2  3  4]\n",
      " [ 5  6  7  8  9]\n",
      " [10 11 12 13 14]]\n",
      "- a[-5:]: \n",
      "[[ 5  6  7  8  9]\n",
      " [10 11 12 13 14]\n",
      " [15 16 17 18 19]\n",
      " [20 21 22 23 24]\n",
      " [25 26 27 28 29]]\n",
      "- a[0:3, 3:]: \n",
      "[[ 3  4]\n",
      " [ 8  9]\n",
      " [13 14]]\n",
      "- a[np.ix_([1, 3, 4], [0, 2])]: \n",
      "[[ 5  7]\n",
      " [15 17]\n",
      " [20 22]]\n",
      "- a[2:4:2],:]: \n",
      "[[10 11 12 13 14]]\n",
      "- a[::2],:]: \n",
      "[[ 0  1  2  3  4]\n",
      " [10 11 12 13 14]\n",
      " [20 21 22 23 24]]\n",
      "a[::-1,:]: \n",
      "[[25 26 27 28 29]\n",
      " [20 21 22 23 24]\n",
      " [15 16 17 18 19]\n",
      " [10 11 12 13 14]\n",
      " [ 5  6  7  8  9]\n",
      " [ 0  1  2  3  4]]\n",
      "a[np.r_[:len(a),1]]: \n",
      "[[ 0  1  2  3  4]\n",
      " [ 5  6  7  8  9]\n",
      " [10 11 12 13 14]\n",
      " [15 16 17 18 19]\n",
      " [20 21 22 23 24]\n",
      " [25 26 27 28 29]\n",
      " [ 5  6  7  8  9]]\n"
     ]
    }
   ],
   "source": [
    "print(f\"- a[-1]: \\n{a[-1]}\")\n",
    "print(f\"- a[1,4]: \\n{a[1,4]}\")\n",
    "print(f\"- a[1,:]: \\n{a[1,:]}\")\n",
    "print(f\"- a[0:3, :]: \\n{a[:3, :]}\")\n",
    "print(f\"- a[-5:]: \\n{a[-5:]}\")\n",
    "print(f\"- a[0:3, 3:]: \\n{a[0:3, 3:]}\")\n",
    "print(f\"- a[np.ix_([1, 3, 4], [0, 2])]: \\n{a[np.ix_([1, 3, 4], [0, 2])]}\")\n",
    "print(f\"- a[2:4:2],:]: \\n{a[2:4:2, :]}\")\n",
    "print(f\"- a[::2],:]: \\n{a[::2, :]}\")\n",
    "print(f\"a[::-1,:]: \\n{a[::-1,:]}\")\n",
    "print(f\"a[np.r_[:len(a),1]]: \\n{a[np.r_[:len(a),1]]}\")"
   ]
  },
  {
   "cell_type": "code",
   "execution_count": 63,
   "metadata": {
    "pycharm": {
     "name": "#%%\n"
    }
   },
   "outputs": [
    {
     "name": "stdout",
     "output_type": "stream",
     "text": [
      "a.T: \n",
      "[[ 0  5 10 15 20 25]\n",
      " [ 1  6 11 16 21 26]\n",
      " [ 2  7 12 17 22 27]\n",
      " [ 3  8 13 18 23 28]\n",
      " [ 4  9 14 19 24 29]]\n",
      "a.conj().T: \n",
      "[[ 0  5 10 15 20 25]\n",
      " [ 1  6 11 16 21 26]\n",
      " [ 2  7 12 17 22 27]\n",
      " [ 3  8 13 18 23 28]\n",
      " [ 4  9 14 19 24 29]]\n"
     ]
    }
   ],
   "source": [
    "print(f\"a.T: \\n{a.T}\")\n",
    "print(f\"a.conj().T: \\n{a.conj().T}\")"
   ]
  },
  {
   "cell_type": "code",
   "execution_count": 64,
   "metadata": {
    "pycharm": {
     "name": "#%%\n"
    }
   },
   "outputs": [
    {
     "name": "stdout",
     "output_type": "stream",
     "text": [
      "- b @ c: \n",
      "[[ 5]\n",
      " [10]]\n",
      "- b * c: \n",
      "[[3 1]\n",
      " [4 8]]\n",
      "- b / c: \n",
      "[[3. 1.]\n",
      " [1. 2.]]\n",
      "- b**3: \n",
      "[[27  1]\n",
      " [ 8 64]]\n",
      "- (b > 0.5): \n",
      " [[ True  True]\n",
      " [ True  True]]\n",
      "- np.nonzero(b > 0.5): \n",
      "(array([0, 0, 1, 1], dtype=int64), array([0, 1, 0, 1], dtype=int64))\n",
      "- b[:,np.nonzero(v > 0.5)[0]]: \n",
      "[[1]\n",
      " [4]]\n",
      "- b[:, v.T > 0.5]: \n",
      "[[1]\n",
      " [4]]\n",
      "- b[b > 2]: \n",
      "[3 4]\n",
      "- b * (b > 2): \n",
      "[[3 0]\n",
      " [0 4]]\n"
     ]
    }
   ],
   "source": [
    "b = np.array([[3,1],[2,4]])\n",
    "c = np.array([[1],[2]])\n",
    "v = np.array([0,1])\n",
    "print(f\"- b @ c: \\n{b @ c}\")\n",
    "print(f\"- b * c: \\n{b * c}\")\n",
    "print(f\"- b / c: \\n{b / c}\")\n",
    "print(f\"- b**3: \\n{b ** 3}\")\n",
    "print(f\"- (b > 0.5): \\n {(b > 0.5)}\")\n",
    "print(f\"- np.nonzero(b > 0.5): \\n{np.nonzero(b > 0.5)}\")\n",
    "print(f\"- b[:,np.nonzero(v > 0.5)[0]]: \\n{b[:,np.nonzero(v > 0.5)[0]]}\")\n",
    "print(f\"- b[:, v.T > 0.5]: \\n{b[:, v.T > 0.5]}\")\n",
    "print(f\"- b[b > 2]: \\n{b[b>2]}\")\n",
    "print(f\"- b * (b > 2): \\n{b * (b > 2)}\")"
   ]
  },
  {
   "cell_type": "code",
   "execution_count": 65,
   "metadata": {
    "pycharm": {
     "name": "#%%\n"
    }
   },
   "outputs": [
    {
     "name": "stdout",
     "output_type": "stream",
     "text": [
      "- y: \n",
      "[[3 1]\n",
      " [2 4]]\n",
      "- y = b[1,:].copy(): \n",
      "[2 4]\n",
      "y=b.flatten(): \n",
      "[3 1 2 4]\n"
     ]
    }
   ],
   "source": [
    "y = b.copy()\n",
    "print(f\"- y: \\n{y}\")\n",
    "print(f\"- y = b[1,:].copy(): \\n{b[1,:].copy()}\")\n",
    "print(f\"y=b.flatten(): \\n{b.flatten()}\")"
   ]
  },
  {
   "cell_type": "code",
   "execution_count": 66,
   "metadata": {
    "pycharm": {
     "name": "#%%\n"
    }
   },
   "outputs": [
    {
     "name": "stdout",
     "output_type": "stream",
     "text": [
      "- np.arange(1., 11.): \n",
      "[ 1.  2.  3.  4.  5.  6.  7.  8.  9. 10.]\n",
      "- np.arange(10.): \n",
      "[0. 1. 2. 3. 4. 5. 6. 7. 8. 9.]\n",
      "- np.arange(1.,11.)[:, np.newaxis]: \n",
      "[[ 1.]\n",
      " [ 2.]\n",
      " [ 3.]\n",
      " [ 4.]\n",
      " [ 5.]\n",
      " [ 6.]\n",
      " [ 7.]\n",
      " [ 8.]\n",
      " [ 9.]\n",
      " [10.]]\n",
      "- np.zeros((3, 4)): \n",
      "[[0. 0. 0. 0.]\n",
      " [0. 0. 0. 0.]\n",
      " [0. 0. 0. 0.]]\n",
      "- np.zeros((3, 4, 5)): \n",
      "[[[0. 0. 0. 0. 0.]\n",
      "  [0. 0. 0. 0. 0.]\n",
      "  [0. 0. 0. 0. 0.]\n",
      "  [0. 0. 0. 0. 0.]]\n",
      "\n",
      " [[0. 0. 0. 0. 0.]\n",
      "  [0. 0. 0. 0. 0.]\n",
      "  [0. 0. 0. 0. 0.]\n",
      "  [0. 0. 0. 0. 0.]]\n",
      "\n",
      " [[0. 0. 0. 0. 0.]\n",
      "  [0. 0. 0. 0. 0.]\n",
      "  [0. 0. 0. 0. 0.]\n",
      "  [0. 0. 0. 0. 0.]]]\n",
      "- np.ones((3, 4)): \n",
      "[[1. 1. 1. 1.]\n",
      " [1. 1. 1. 1.]\n",
      " [1. 1. 1. 1.]]\n",
      "- np.eye(3):\n",
      "[[1. 0. 0.]\n",
      " [0. 1. 0.]\n",
      " [0. 0. 1.]]\n",
      "- np.diag(a): \n",
      "[ 0  6 12 18 24]\n",
      "- np.diag(v, 0):\n",
      "[[0 0]\n",
      " [0 1]]\n",
      "- np.random.rand(3, 4)):\n",
      "[[0.95786033 0.97750282 0.58263052 0.96759798]\n",
      " [0.96030918 0.40089222 0.93854563 0.15034803]\n",
      " [0.40565058 0.45035103 0.85098553 0.04857567]]\n",
      "- np.linspace(1,3,4):\n",
      "[1.         1.66666667 2.33333333 3.        ]\n"
     ]
    }
   ],
   "source": [
    "print(f\"- np.arange(1., 11.): \\n{np.arange(1., 11.)}\")\n",
    "print(f\"- np.arange(10.): \\n{np.arange(10.)}\")\n",
    "print(f\"- np.arange(1.,11.)[:, np.newaxis]: \\n{np.arange(1.,11.)[:, np.newaxis]}\")\n",
    "print(f\"- np.zeros((3, 4)): \\n{np.zeros((3, 4))}\")\n",
    "print(f\"- np.zeros((3, 4, 5)): \\n{np.zeros((3, 4, 5))}\")\n",
    "print(f\"- np.ones((3, 4)): \\n{np.ones((3, 4))}\")\n",
    "print(f\"- np.eye(3):\\n{np.eye(3)}\")\n",
    "print(f\"- np.diag(a): \\n{np.diag(a)}\")\n",
    "print(f\"- np.diag(v, 0):\\n{np.diag(v, 0)}\")\n",
    "print(f\"- np.random.rand(3, 4)):\\n{np.random.rand(3, 4)}\")\n",
    "print(f\"- np.linspace(1,3,4):\\n{np.linspace(1,3,4)}\")"
   ]
  },
  {
   "cell_type": "code",
   "execution_count": 67,
   "metadata": {
    "pycharm": {
     "name": "#%%\n"
    }
   },
   "outputs": [
    {
     "name": "stdout",
     "output_type": "stream",
     "text": [
      "- np.mgrid[0:9.,0:6.]:\n",
      "[[[0. 0. 0. 0. 0. 0.]\n",
      "  [1. 1. 1. 1. 1. 1.]\n",
      "  [2. 2. 2. 2. 2. 2.]\n",
      "  [3. 3. 3. 3. 3. 3.]\n",
      "  [4. 4. 4. 4. 4. 4.]\n",
      "  [5. 5. 5. 5. 5. 5.]\n",
      "  [6. 6. 6. 6. 6. 6.]\n",
      "  [7. 7. 7. 7. 7. 7.]\n",
      "  [8. 8. 8. 8. 8. 8.]]\n",
      "\n",
      " [[0. 1. 2. 3. 4. 5.]\n",
      "  [0. 1. 2. 3. 4. 5.]\n",
      "  [0. 1. 2. 3. 4. 5.]\n",
      "  [0. 1. 2. 3. 4. 5.]\n",
      "  [0. 1. 2. 3. 4. 5.]\n",
      "  [0. 1. 2. 3. 4. 5.]\n",
      "  [0. 1. 2. 3. 4. 5.]\n",
      "  [0. 1. 2. 3. 4. 5.]\n",
      "  [0. 1. 2. 3. 4. 5.]]]\n",
      "- ogrid[0:9.,0:6.]:\n",
      "[array([[0.],\n",
      "       [1.],\n",
      "       [2.],\n",
      "       [3.],\n",
      "       [4.],\n",
      "       [5.],\n",
      "       [6.],\n",
      "       [7.],\n",
      "       [8.]]), array([[0., 1., 2., 3., 4., 5.]])]\n",
      "- np.meshgrid([1,2,4],[2,4,5]):\n",
      "[array([[1, 2, 4],\n",
      "       [1, 2, 4],\n",
      "       [1, 2, 4]]), array([[2, 2, 2],\n",
      "       [4, 4, 4],\n",
      "       [5, 5, 5]])]\n",
      "- np.ix_([1,2,4],[2,4,5]):\n",
      "(array([[1],\n",
      "       [2],\n",
      "       [4]]), array([[2, 4, 5]]))\n",
      "- np.tile(a, (m, n)):\n",
      "[[ 0  1  2  3  4  0  1  2  3  4  0  1  2  3  4]\n",
      " [ 5  6  7  8  9  5  6  7  8  9  5  6  7  8  9]\n",
      " [10 11 12 13 14 10 11 12 13 14 10 11 12 13 14]\n",
      " [15 16 17 18 19 15 16 17 18 19 15 16 17 18 19]\n",
      " [20 21 22 23 24 20 21 22 23 24 20 21 22 23 24]\n",
      " [25 26 27 28 29 25 26 27 28 29 25 26 27 28 29]\n",
      " [ 0  1  2  3  4  0  1  2  3  4  0  1  2  3  4]\n",
      " [ 5  6  7  8  9  5  6  7  8  9  5  6  7  8  9]\n",
      " [10 11 12 13 14 10 11 12 13 14 10 11 12 13 14]\n",
      " [15 16 17 18 19 15 16 17 18 19 15 16 17 18 19]\n",
      " [20 21 22 23 24 20 21 22 23 24 20 21 22 23 24]\n",
      " [25 26 27 28 29 25 26 27 28 29 25 26 27 28 29]]\n"
     ]
    }
   ],
   "source": [
    "print(f\"- np.mgrid[0:9.,0:6.]:\\n{np.mgrid[0:9.,0:6.]}\")\n",
    "print(f\"- ogrid[0:9.,0:6.]:\\n{np.ogrid[0:9.,0:6.]}\")\n",
    "print(f\"- np.meshgrid([1,2,4],[2,4,5]):\\n{np.meshgrid([1,2,4],[2,4,5])}\")\n",
    "print(f\"- np.ix_([1,2,4],[2,4,5]):\\n{np.ix_([1,2,4],[2,4,5])}\")\n",
    "print(f\"- np.tile(a, (m, n)):\\n{np.tile(a, (2, 3))}\")"
   ]
  },
  {
   "cell_type": "code",
   "execution_count": 68,
   "metadata": {
    "pycharm": {
     "name": "#%%\n"
    }
   },
   "outputs": [
    {
     "name": "stdout",
     "output_type": "stream",
     "text": [
      "- np.concatenate((a,b),1):\n",
      "[[0 2]\n",
      " [4 3]]\n",
      "- np.vstack((a,b)):\n",
      "[[0]\n",
      " [4]\n",
      " [2]\n",
      " [3]]\n"
     ]
    }
   ],
   "source": [
    "a = np.array([[0],[4]])\n",
    "b = np.array([[2],[3]])\n",
    "print(f\"- np.concatenate((a,b),1):\\n{np.hstack((a,b))}\")\n",
    "print(f\"- np.vstack((a,b)):\\n{np.vstack((a,b))}\")"
   ]
  },
  {
   "cell_type": "code",
   "execution_count": 69,
   "metadata": {
    "pycharm": {
     "name": "#%%\n"
    }
   },
   "outputs": [
    {
     "name": "stdout",
     "output_type": "stream",
     "text": [
      "- a.max():\n",
      "4\n",
      "- a.max(0):\n",
      "[4]\n",
      "- a.max(1):\n",
      "[0 4]\n",
      "- np.maximum(a, b):\n",
      "[[2]\n",
      " [4]]\n",
      "- logical_and(a,b):\n",
      "[[False]\n",
      " [ True]]\n",
      "- np.logical_or(a,b):\n",
      "[[ True]\n",
      " [ True]]\n",
      "- a&b:\n",
      "[[0]\n",
      " [0]]\n",
      "- a|b:\n",
      "[[2]\n",
      " [7]]\n"
     ]
    }
   ],
   "source": [
    "print(f\"- a.max():\\n{a.max()}\")\n",
    "print(f\"- a.max(0):\\n{a.max(0)}\")\n",
    "print(f\"- a.max(1):\\n{a.max(1)}\")\n",
    "print(f\"- np.maximum(a, b):\\n{np.maximum(a, b)}\")\n",
    "print(f\"- logical_and(a,b):\\n{np.logical_and(a,b)}\")\n",
    "print(f\"- np.logical_or(a,b):\\n{np.logical_or(a,b)}\")\n",
    "print(f\"- a&b:\\n{a&b}\")\n",
    "print(f\"- a|b:\\n{a|b}\")"
   ]
  },
  {
   "cell_type": "code",
   "execution_count": 70,
   "metadata": {
    "pycharm": {
     "name": "#%%\n"
    }
   },
   "outputs": [
    {
     "name": "stdout",
     "output_type": "stream",
     "text": [
      "- np.linalg.norm(v):\n",
      "3.7416573867739413\n"
     ]
    }
   ],
   "source": [
    "v = np.array([1,2,3])\n",
    "print(f\"- np.linalg.norm(v):\\n{np.linalg.norm(v)}\")"
   ]
  },
  {
   "cell_type": "code",
   "execution_count": 71,
   "metadata": {
    "pycharm": {
     "name": "#%%\n"
    }
   },
   "outputs": [
    {
     "name": "stdout",
     "output_type": "stream",
     "text": [
      "- linalg.inv(a):\n",
      "[[-7.  3.]\n",
      " [ 5. -2.]]\n",
      "- linalg.pinv(a):\n",
      "[[-7.  3.]\n",
      " [ 5. -2.]]\n",
      "- np.linalg.matrix_rank(a):\n",
      "2\n",
      "- linalg.solve(a, b):\n",
      "[-19.  15.]\n",
      "- linalg.svd(a):\n",
      "[[-0.38643579 -0.92231631]\n",
      " [-0.92231631  0.38643579]]\n",
      "[9.32676279 0.10721834]\n",
      "[[-0.57731211 -0.81652356]\n",
      " [ 0.81652356 -0.57731211]]\n"
     ]
    }
   ],
   "source": [
    "a = np.array([[2,3],[5,7]])\n",
    "b = np.array([7,10])\n",
    "print(f\"- linalg.inv(a):\\n{np.linalg.inv(a)}\")\n",
    "print(f\"- linalg.pinv(a):\\n{np.linalg.pinv(a)}\")\n",
    "print(f\"- np.linalg.matrix_rank(a):\\n{np.linalg.matrix_rank(a)}\")\n",
    "print(f\"- linalg.solve(a, b):\\n{np.linalg.solve(a, b)}\")\n",
    "U,S, Vh = np.linalg.svd(a)\n",
    "print(f\"- linalg.svd(a):\\n{U}\\n{S}\\n{Vh}\")"
   ]
  },
  {
   "cell_type": "code",
   "execution_count": 72,
   "metadata": {
    "pycharm": {
     "name": "#%%\n"
    }
   },
   "outputs": [
    {
     "name": "stdout",
     "output_type": "stream",
     "text": [
      "- linalg.eig(a):\n",
      "[-0.10977223  9.10977223]\n",
      "[[-0.81797819 -0.38876264]\n",
      " [ 0.57524923 -0.92133794]]\n",
      "- linalg.cholesky(a):\n",
      "[[1. 0. 0. 0. 0.]\n",
      " [0. 1. 0. 0. 0.]\n",
      " [0. 0. 1. 0. 0.]\n",
      " [0. 0. 0. 1. 0.]\n",
      " [0. 0. 0. 0. 1.]]\n",
      "- linalg.qr(a):\n",
      "[[1. 0. 0. 0. 0.]\n",
      " [0. 1. 0. 0. 0.]\n",
      " [0. 0. 1. 0. 0.]\n",
      " [0. 0. 0. 1. 0.]\n",
      " [0. 0. 0. 0. 1.]]\n",
      "[[1. 0. 0. 0. 0.]\n",
      " [0. 1. 0. 0. 0.]\n",
      " [0. 0. 1. 0. 0.]\n",
      " [0. 0. 0. 1. 0.]\n",
      " [0. 0. 0. 0. 1.]]\n"
     ]
    }
   ],
   "source": [
    "D,V = linalg.eig(a)\n",
    "print(f\"- linalg.eig(a):\\n{D}\\n{V}\")\n",
    "\n",
    "a = np.eye(5)\n",
    "print(f\"- linalg.cholesky(a):\\n{np.linalg.cholesky(a)}\")\n",
    "\n",
    "Q,R = linalg.qr(a)\n",
    "print(f\"- linalg.qr(a):\\n{Q}\\n{R}\")"
   ]
  },
  {
   "cell_type": "code",
   "execution_count": 73,
   "metadata": {
    "pycharm": {
     "name": "#%%\n"
    }
   },
   "outputs": [
    {
     "name": "stdout",
     "output_type": "stream",
     "text": [
      "- fft:\n",
      "[[ 1.        +0.j          1.        +0.j          1.        +0.j\n",
      "   1.        +0.j          1.        +0.j        ]\n",
      " [ 1.        +0.j          0.30901699-0.95105652j -0.80901699-0.58778525j\n",
      "  -0.80901699+0.58778525j  0.30901699+0.95105652j]\n",
      " [ 1.        +0.j         -0.80901699-0.58778525j  0.30901699+0.95105652j\n",
      "   0.30901699-0.95105652j -0.80901699+0.58778525j]\n",
      " [ 1.        +0.j         -0.80901699+0.58778525j  0.30901699-0.95105652j\n",
      "   0.30901699+0.95105652j -0.80901699-0.58778525j]\n",
      " [ 1.        +0.j          0.30901699+0.95105652j -0.80901699+0.58778525j\n",
      "  -0.80901699-0.58778525j  0.30901699-0.95105652j]]\n",
      "- ifft:\n",
      "[[ 0.2      +0.j          0.2      +0.j          0.2      +0.j\n",
      "   0.2      +0.j          0.2      +0.j        ]\n",
      " [ 0.2      +0.j          0.0618034+0.1902113j  -0.1618034+0.11755705j\n",
      "  -0.1618034-0.11755705j  0.0618034-0.1902113j ]\n",
      " [ 0.2      +0.j         -0.1618034+0.11755705j  0.0618034-0.1902113j\n",
      "   0.0618034+0.1902113j  -0.1618034-0.11755705j]\n",
      " [ 0.2      +0.j         -0.1618034-0.11755705j  0.0618034+0.1902113j\n",
      "   0.0618034-0.1902113j  -0.1618034+0.11755705j]\n",
      " [ 0.2      +0.j          0.0618034-0.1902113j  -0.1618034-0.11755705j\n",
      "  -0.1618034+0.11755705j  0.0618034+0.1902113j ]]\n"
     ]
    }
   ],
   "source": [
    "print(f\"- fft:\\n{np.fft.fft(a)}\")\n",
    "print(f\"- ifft:\\n{np.fft.ifft(a)}\")"
   ]
  },
  {
   "cell_type": "code",
   "execution_count": 74,
   "metadata": {
    "pycharm": {
     "name": "#%%\n"
    }
   },
   "outputs": [
    {
     "name": "stdout",
     "output_type": "stream",
     "text": [
      "- sort:\n",
      "[[46  2  7 12]\n",
      " [65 90 30 20]]\n",
      "- argsort:\n",
      "[[1 2 3 0]\n",
      " [3 2 0 1]]\n",
      "uniqe:\n",
      "[ 2  7 12 20 30 46 65 90]\n",
      "squeeze:\n",
      "(2, 4)\n"
     ]
    }
   ],
   "source": [
    "a = np.array([[46,2,7,20],[65,90,30,12]])\n",
    "print(f\"- sort:\\n{np.sort(a,axis=0)}\")\n",
    "print(f\"- argsort:\\n{np.argsort(a, axis=1)}\")\n",
    "print(f\"uniqe:\\n{np.unique(a)}\")\n",
    "\n",
    "a = a[...,None]\n",
    "a = a.squeeze()\n",
    "print(f\"squeeze:\\n{a.shape}\")"
   ]
  },
  {
   "cell_type": "code",
   "execution_count": 75,
   "metadata": {
    "pycharm": {
     "name": "#%%\n"
    }
   },
   "outputs": [
    {
     "name": "stdout",
     "output_type": "stream",
     "text": [
      "linalg.lstsq(Z, y):\n",
      "(array([0.14836601, 0.56797386]), array([0.04052288]), 2, array([23.97238523,  2.30754121]))\n"
     ]
    },
    {
     "name": "stderr",
     "output_type": "stream",
     "text": [
      "C:\\Users\\zrh73\\AppData\\Local\\Temp/ipykernel_9064/3873016560.py:3: FutureWarning: `rcond` parameter will change to the default of machine precision times ``max(M, N)`` where M and N are the input matrix dimensions.\n",
      "To use the future default and silence this warning we advise to pass `rcond=None`, to keep using the old, explicitly pass `rcond=-1`.\n",
      "  x = linalg.lstsq(Z,y)\n"
     ]
    }
   ],
   "source": [
    "Z = np.array([[2,5],[3,6],[9,10],[10,15]])\n",
    "y = np.array([3,4,7,10])\n",
    "x = linalg.lstsq(Z,y)\n",
    "print(f\"linalg.lstsq(Z, y):\\n{x}\")"
   ]
  },
  {
   "cell_type": "code",
   "execution_count": 75,
   "metadata": {
    "pycharm": {
     "name": "#%%\n"
    }
   },
   "outputs": [],
   "source": []
  },
  {
   "cell_type": "code",
   "execution_count": null,
   "metadata": {
    "pycharm": {
     "name": "#%%\n"
    }
   },
   "outputs": [],
   "source": []
  }
 ],
 "metadata": {
  "kernelspec": {
   "display_name": "Python 3 (ipykernel)",
   "language": "python",
   "name": "python3"
  },
  "language_info": {
   "codemirror_mode": {
    "name": "ipython",
    "version": 3
   },
   "file_extension": ".py",
   "mimetype": "text/x-python",
   "name": "python",
   "nbconvert_exporter": "python",
   "pygments_lexer": "ipython3",
   "version": "3.9.7"
  }
 },
 "nbformat": 4,
 "nbformat_minor": 1
}