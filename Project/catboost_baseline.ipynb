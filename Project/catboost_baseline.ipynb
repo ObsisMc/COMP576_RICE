{
 "cells": [
  {
   "cell_type": "raw",
   "id": "e2e79ee8",
   "metadata": {
    "papermill": {
     "duration": 0.00259,
     "end_time": "2023-10-17T22:03:38.112115",
     "exception": false,
     "start_time": "2023-10-17T22:03:38.109525",
     "status": "completed"
    },
    "tags": []
   },
   "source": [
    "# All credits to this notebook: https://www.kaggle.com/code/renatoreggiani/optv-lightgbm"
   ]
  },
  {
   "cell_type": "code",
   "execution_count": 1,
   "id": "acae75d3",
   "metadata": {
    "_cell_guid": "b1076dfc-b9ad-4769-8c92-a6c4dae69d19",
    "_uuid": "8f2839f25d086af736a60e9eeb907d3b93b6e0e5",
    "execution": {
     "iopub.execute_input": "2023-10-17T22:03:38.119410Z",
     "iopub.status.busy": "2023-10-17T22:03:38.119045Z",
     "iopub.status.idle": "2023-10-17T22:03:41.417993Z",
     "shell.execute_reply": "2023-10-17T22:03:41.416689Z"
    },
    "papermill": {
     "duration": 3.306702,
     "end_time": "2023-10-17T22:03:41.420720",
     "exception": false,
     "start_time": "2023-10-17T22:03:38.114018",
     "status": "completed"
    },
    "tags": []
   },
   "outputs": [],
   "source": [
    "import pandas as pd\n",
    "import numpy as np\n",
    "import lightgbm as lgb\n",
    "import xgboost as xgb\n",
    "import catboost as cat\n",
    "import gc\n",
    "from itertools import combinations\n",
    "import warnings\n",
    "from sklearn.model_selection import KFold\n",
    "from sklearn.metrics import mean_absolute_error\n",
    "from warnings import simplefilter\n",
    "import joblib\n",
    "import os\n",
    "import matplotlib.pyplot as plot"
   ]
  },
  {
   "cell_type": "code",
   "execution_count": 2,
   "id": "6acf05dc",
   "metadata": {
    "execution": {
     "iopub.execute_input": "2023-10-17T22:03:41.427254Z",
     "iopub.status.busy": "2023-10-17T22:03:41.426893Z",
     "iopub.status.idle": "2023-10-17T22:04:39.429479Z",
     "shell.execute_reply": "2023-10-17T22:04:39.428292Z"
    },
    "papermill": {
     "duration": 58.008486,
     "end_time": "2023-10-17T22:04:39.431676",
     "exception": false,
     "start_time": "2023-10-17T22:03:41.423190",
     "status": "completed"
    },
    "tags": []
   },
   "outputs": [],
   "source": [
    "warnings.filterwarnings(\"ignore\")\n",
    "simplefilter(action=\"ignore\", category=pd.errors.PerformanceWarning)\n",
    "\n",
    "is_train = True\n",
    "is_infer = False\n",
    "\n",
    "train = pd.read_csv('/kaggle/input/optiver-trading-at-the-close/train.csv')\n",
    "median_sizes = train.groupby('stock_id')['bid_size'].median() + train.groupby('stock_id')['ask_size'].median()\n",
    "std_sizes = train.groupby('stock_id')['bid_size'].std() + train.groupby('stock_id')['ask_size'].std()\n",
    "train = train.dropna(subset=['target'])\n",
    "\n",
    "def feat_eng(df):\n",
    "    \n",
    "    cols = [c for c in df.columns if c not in ['row_id', 'time_id']]\n",
    "    df = df[cols]\n",
    "    df['imbalance_ratio'] = df['imbalance_size'] / df['matched_size']\n",
    "    df['bid_ask_volume_diff'] = df['ask_size'] - df['bid_size']\n",
    "    df['mid_price'] = (df['ask_price'] + df['bid_price']) / 2\n",
    "    df['bid_plus_ask_sizes'] = df['bid_size'] + df['ask_size']\n",
    "    df['median_size'] = df['stock_id'].map(median_sizes.to_dict())\n",
    "    df['std_size'] = df['stock_id'].map(std_sizes.to_dict())\n",
    "    df['high_volume'] = np.where(df['bid_plus_ask_sizes'] > df['median_size'], 1, 0)\n",
    "    \n",
    "    # auction has two parts: https://nasdaqtrader.com/content/ETFs/closing_cross_faqs.pdf\n",
    "    df[\"auction_stage\"] = np.where(df[\"seconds_in_bucket\"] > 300, 1, 0)\n",
    "        \n",
    "    prices = ['reference_price','far_price', 'near_price', 'ask_price', 'bid_price', 'wap']\n",
    "    \n",
    "    for c in combinations(prices, 2):\n",
    "        df[f'{c[0]}_minus_{c[1]}'] = (df[f'{c[0]}'] - df[f'{c[1]}']).astype(np.float32)\n",
    "        df[f'{c[0]}_{c[1]}_imb'] = df.eval(f'({c[0]}-{c[1]})/({c[0]}+{c[1]})')\n",
    "\n",
    "    for c in combinations(prices, 3):\n",
    "        \n",
    "        max_ = df[list(c)].max(axis=1)\n",
    "        min_ = df[list(c)].min(axis=1)\n",
    "        mid_ = df[list(c)].sum(axis=1)-min_-max_\n",
    "\n",
    "        df[f'{c[0]}_{c[1]}_{c[2]}_imb2'] = (max_-mid_)/(mid_-min_)\n",
    "    \n",
    "        \n",
    "    df.drop(columns=[\n",
    "        'date_id', \n",
    "    ], inplace=True)\n",
    "        \n",
    "    gc.collect()\n",
    "    \n",
    "    return df\n",
    "\n",
    "# order by date\n",
    "# train_date_sort = train.sort_values(by=[\"date_id\"])\n",
    "trainset = train\n",
    "\n",
    "y_all = trainset['target'].values\n",
    "X_all = feat_eng(trainset.drop(columns='target'))\n",
    "\n",
    "y_min = np.min(trainset[\"target\"].values)\n",
    "y_max = np.max(trainset[\"target\"].values)"
   ]
  },
  {
   "cell_type": "code",
   "execution_count": 3,
   "id": "ce17a9f0",
   "metadata": {
    "execution": {
     "iopub.execute_input": "2023-10-17T22:04:39.437761Z",
     "iopub.status.busy": "2023-10-17T22:04:39.437065Z",
     "iopub.status.idle": "2023-10-17T22:04:39.442829Z",
     "shell.execute_reply": "2023-10-17T22:04:39.441539Z"
    },
    "papermill": {
     "duration": 0.010773,
     "end_time": "2023-10-17T22:04:39.444588",
     "exception": false,
     "start_time": "2023-10-17T22:04:39.433815",
     "status": "completed"
    },
    "tags": []
   },
   "outputs": [
    {
     "name": "stdout",
     "output_type": "stream",
     "text": [
      "-385.2898 446.07043\n"
     ]
    }
   ],
   "source": [
    "print(y_min, y_max)"
   ]
  },
  {
   "cell_type": "code",
   "execution_count": 4,
   "id": "2b1aef05",
   "metadata": {
    "execution": {
     "iopub.execute_input": "2023-10-17T22:04:39.449956Z",
     "iopub.status.busy": "2023-10-17T22:04:39.449657Z",
     "iopub.status.idle": "2023-10-17T22:04:39.454639Z",
     "shell.execute_reply": "2023-10-17T22:04:39.453396Z"
    },
    "papermill": {
     "duration": 0.010363,
     "end_time": "2023-10-17T22:04:39.456981",
     "exception": false,
     "start_time": "2023-10-17T22:04:39.446618",
     "status": "completed"
    },
    "tags": []
   },
   "outputs": [],
   "source": [
    "# X_ = X_all[np.isfinite(y_all)]\n",
    "# y_ = y_all[np.isfinite(y_all)]\n",
    "# print(X_all.shape, X_.shape)\n",
    "\n",
    "# print(f\"The number of train data: {train.shape}\")\n",
    "# print(X_all.isnull().values.any())\n",
    "# print(X_.isnull().values.any())"
   ]
  },
  {
   "cell_type": "code",
   "execution_count": 5,
   "id": "33d205fe",
   "metadata": {
    "execution": {
     "iopub.execute_input": "2023-10-17T22:04:39.462737Z",
     "iopub.status.busy": "2023-10-17T22:04:39.462384Z",
     "iopub.status.idle": "2023-10-17T22:04:39.470551Z",
     "shell.execute_reply": "2023-10-17T22:04:39.469401Z"
    },
    "papermill": {
     "duration": 0.013356,
     "end_time": "2023-10-17T22:04:39.472618",
     "exception": false,
     "start_time": "2023-10-17T22:04:39.459262",
     "status": "completed"
    },
    "tags": []
   },
   "outputs": [],
   "source": [
    "N_Folds = 4\n",
    "kf = KFold(n_splits=N_Folds, shuffle=True, random_state=42)\n",
    "# kf = KFold(n_splits=N_Folds, shuffle=False)\n",
    "mae_scores = []\n",
    "\n",
    "params = {\n",
    "    'learning_rate': 0.018,\n",
    "    'max_depth': 10,\n",
    "    'iterations': 1500,\n",
    "#     'max_leaves': 440,\n",
    "    'objective': 'MAE',\n",
    "    'random_seed': 42,\n",
    "#     'reg_alpha': 0.01,\n",
    "    'reg_lambda': 0.01\n",
    "}\n",
    "\n",
    "is_train = True\n",
    "if is_train:\n",
    "#     X = X_all[X_all[\"date_id\"] >= 240]\n",
    "#     y = y_all[X_all[\"date_id\"] >= 240]\n",
    "    X = X_all\n",
    "    y = y_all\n",
    "    for fold, (train_idx, valid_idx) in enumerate(kf.split(X, y)):\n",
    "        print(train_idx)\n",
    "        X_train, X_valid = X.iloc[train_idx], X.iloc[valid_idx]\n",
    "        y_train, y_valid = y[train_idx], y[valid_idx]\n",
    "\n",
    "#         m = lgb.train(params, train_data, valid_sets=[train_data, valid_data], verbose_eval=50, early_stopping_rounds=50)\n",
    "        m = cat.CatBoostRegressor(**params)\n",
    "        m.fit(X_train, y_train, \n",
    "                    eval_set=[(X_valid, y_valid)], \n",
    "                    verbose=50, \n",
    "                    early_stopping_rounds=50\n",
    "                    )\n",
    "#         m = xgb.train(params, train_data, evals=[valid_data],callbacks=[eval_log,early_stop])\n",
    "        print(f\"Fold {fold+1} Trainning finished.\")\n",
    "\n",
    "        model_filename = f\"./model_fold_{fold+1}.pkl\"\n",
    "        joblib.dump(m, model_filename)\n",
    "        y_pred_valid = m.predict(X_valid)\n",
    "\n",
    "        y_pred_valid = np.nan_to_num(y_pred_valid)\n",
    "        y_valid = np.nan_to_num(y_valid)\n",
    "        mae = mean_absolute_error(y_valid, y_pred_valid)\n",
    "        mae_scores.append(mae)\n",
    "\n",
    "    # 计算五折平均的MAE\n",
    "    average_mae = np.mean(mae_scores)\n",
    "    print(f\"5 fold MAE: {average_mae}\")\n"
   ]
  },
  {
   "cell_type": "code",
   "execution_count": 6,
   "id": "6b223e31",
   "metadata": {
    "execution": {
     "iopub.execute_input": "2023-10-17T22:04:39.477869Z",
     "iopub.status.busy": "2023-10-17T22:04:39.477578Z",
     "iopub.status.idle": "2023-10-17T22:14:14.844730Z",
     "shell.execute_reply": "2023-10-17T22:14:14.843889Z"
    },
    "papermill": {
     "duration": 575.371944,
     "end_time": "2023-10-17T22:14:14.846704",
     "exception": false,
     "start_time": "2023-10-17T22:04:39.474760",
     "status": "completed"
    },
    "tags": []
   },
   "outputs": [
    {
     "name": "stdout",
     "output_type": "stream",
     "text": [
      "This version of the API is not optimized and should not be used to estimate the runtime of your code on the hidden test set.\n"
     ]
    }
   ],
   "source": [
    "def zero_sum(prices, volumes):\n",
    "    std_error = np.sqrt(volumes)\n",
    "    step = np.sum(prices)/np.sum(std_error)\n",
    "    out = prices-std_error*step\n",
    "    \n",
    "    return out\n",
    "\n",
    "is_infer = False\n",
    "if is_infer:\n",
    "    import optiver2023\n",
    "    env = optiver2023.make_env()\n",
    "    iter_test = env.iter_test()\n",
    "    counter = 0\n",
    "    predictions = []\n",
    "\n",
    "    for (test, revealed_targets, sample_prediction) in iter_test:\n",
    "        feat = feat_eng(test)\n",
    "        fold_prediction = 0\n",
    "        for fold in range(0, N_Folds):\n",
    "            model_filename = f\"/kaggle/input/catboost15kit/model_fold_{fold+1}.pkl\"\n",
    "            m = joblib.load(model_filename)\n",
    "            fold_prediction += m.predict(feat)   \n",
    "        \n",
    "        fold_prediction /= N_Folds\n",
    "        fold_prediction = zero_sum(fold_prediction, test.loc[:,'bid_size'] + test.loc[:,'ask_size'])\n",
    "        clipped_predictions = np.clip(fold_prediction, y_min, y_max)\n",
    "        sample_prediction['target'] = clipped_predictions\n",
    "        env.predict(sample_prediction)\n",
    "        counter += 1"
   ]
  },
  {
   "cell_type": "code",
   "execution_count": null,
   "id": "5e2c5664",
   "metadata": {
    "papermill": {
     "duration": 0.00167,
     "end_time": "2023-10-17T22:14:14.850523",
     "exception": false,
     "start_time": "2023-10-17T22:14:14.848853",
     "status": "completed"
    },
    "tags": []
   },
   "outputs": [],
   "source": []
  }
 ],
 "metadata": {
  "kernelspec": {
   "display_name": "Python 3",
   "language": "python",
   "name": "python3"
  },
  "language_info": {
   "codemirror_mode": {
    "name": "ipython",
    "version": 3
   },
   "file_extension": ".py",
   "mimetype": "text/x-python",
   "name": "python",
   "nbconvert_exporter": "python",
   "pygments_lexer": "ipython3",
   "version": "3.10.12"
  },
  "papermill": {
   "default_parameters": {},
   "duration": 640.216012,
   "end_time": "2023-10-17T22:14:15.674667",
   "environment_variables": {},
   "exception": null,
   "input_path": "__notebook__.ipynb",
   "output_path": "__notebook__.ipynb",
   "parameters": {},
   "start_time": "2023-10-17T22:03:35.458655",
   "version": "2.4.0"
  }
 },
 "nbformat": 4,
 "nbformat_minor": 5
}