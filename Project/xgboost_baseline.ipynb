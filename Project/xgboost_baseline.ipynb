{
 "cells": [
  {
   "cell_type": "raw",
   "id": "26c3bad9",
   "metadata": {
    "papermill": {
     "duration": 0.003739,
     "end_time": "2023-10-23T06:00:08.750374",
     "exception": false,
     "start_time": "2023-10-23T06:00:08.746635",
     "status": "completed"
    },
    "tags": []
   },
   "source": [
    "# All credits to this notebook: https://www.kaggle.com/code/renatoreggiani/optv-lightgbm"
   ]
  },
  {
   "cell_type": "code",
   "execution_count": 1,
   "id": "6716c36c",
   "metadata": {
    "_cell_guid": "b1076dfc-b9ad-4769-8c92-a6c4dae69d19",
    "_uuid": "8f2839f25d086af736a60e9eeb907d3b93b6e0e5",
    "execution": {
     "iopub.execute_input": "2023-10-23T06:00:08.759086Z",
     "iopub.status.busy": "2023-10-23T06:00:08.758681Z",
     "iopub.status.idle": "2023-10-23T06:00:14.310630Z",
     "shell.execute_reply": "2023-10-23T06:00:14.309698Z"
    },
    "papermill": {
     "duration": 5.559341,
     "end_time": "2023-10-23T06:00:14.313080",
     "exception": false,
     "start_time": "2023-10-23T06:00:08.753739",
     "status": "completed"
    },
    "tags": []
   },
   "outputs": [
    {
     "name": "stderr",
     "output_type": "stream",
     "text": [
      "/opt/conda/lib/python3.10/site-packages/scipy/__init__.py:146: UserWarning: A NumPy version >=1.16.5 and <1.23.0 is required for this version of SciPy (detected version 1.23.5\n",
      "  warnings.warn(f\"A NumPy version >={np_minversion} and <{np_maxversion}\"\n"
     ]
    }
   ],
   "source": [
    "import pandas as pd\n",
    "import numpy as np\n",
    "import lightgbm as lgb\n",
    "import xgboost as xgb\n",
    "import catboost as cat\n",
    "import gc\n",
    "from itertools import combinations\n",
    "import warnings\n",
    "from sklearn.model_selection import KFold\n",
    "from sklearn.metrics import mean_absolute_error\n",
    "from warnings import simplefilter\n",
    "import joblib\n",
    "import os\n",
    "import matplotlib.pyplot as plot"
   ]
  },
  {
   "cell_type": "code",
   "execution_count": 2,
   "id": "b7f534f5",
   "metadata": {
    "execution": {
     "iopub.execute_input": "2023-10-23T06:00:14.322598Z",
     "iopub.status.busy": "2023-10-23T06:00:14.322292Z",
     "iopub.status.idle": "2023-10-23T06:00:52.762344Z",
     "shell.execute_reply": "2023-10-23T06:00:52.761347Z"
    },
    "papermill": {
     "duration": 38.447545,
     "end_time": "2023-10-23T06:00:52.764734",
     "exception": false,
     "start_time": "2023-10-23T06:00:14.317189",
     "status": "completed"
    },
    "tags": []
   },
   "outputs": [],
   "source": [
    "warnings.filterwarnings(\"ignore\")\n",
    "simplefilter(action=\"ignore\", category=pd.errors.PerformanceWarning)\n",
    "\n",
    "is_train = True\n",
    "is_infer = False\n",
    "\n",
    "train = pd.read_csv('/kaggle/input/optiver-trading-at-the-close/train.csv')\n",
    "median_sizes = train.groupby('stock_id')['bid_size'].median() + train.groupby('stock_id')['ask_size'].median()\n",
    "std_sizes = train.groupby('stock_id')['bid_size'].std() + train.groupby('stock_id')['ask_size'].std()\n",
    "train = train.dropna(subset=['target'])\n",
    "\n",
    "def feat_eng(df):\n",
    "    \n",
    "    cols = [c for c in df.columns if c not in ['row_id', 'time_id']]\n",
    "    df = df[cols]\n",
    "    df['imbalance_ratio'] = df['imbalance_size'] / df['matched_size']\n",
    "    df['bid_ask_volume_diff'] = df['ask_size'] - df['bid_size']\n",
    "    df['mid_price'] = (df['ask_price'] + df['bid_price']) / 2\n",
    "    df['bid_plus_ask_sizes'] = df['bid_size'] + df['ask_size']\n",
    "    df['median_size'] = df['stock_id'].map(median_sizes.to_dict())\n",
    "    df['std_size'] = df['stock_id'].map(std_sizes.to_dict())\n",
    "    df['high_volume'] = np.where(df['bid_plus_ask_sizes'] > df['median_size'], 1, 0)\n",
    "    \n",
    "    # auction has two parts: https://nasdaqtrader.com/content/ETFs/closing_cross_faqs.pdf\n",
    "    df[\"auction_stage\"] = np.where(df[\"seconds_in_bucket\"] > 300, 1, 0)\n",
    "        \n",
    "    prices = ['reference_price','far_price', 'near_price', 'ask_price', 'bid_price', 'wap']\n",
    "    \n",
    "    for c in combinations(prices, 2):\n",
    "        df[f'{c[0]}_minus_{c[1]}'] = (df[f'{c[0]}'] - df[f'{c[1]}']).astype(np.float32)\n",
    "        df[f'{c[0]}_{c[1]}_imb'] = df.eval(f'({c[0]}-{c[1]})/({c[0]}+{c[1]})')\n",
    "\n",
    "    for c in combinations(prices, 3):\n",
    "        \n",
    "        max_ = df[list(c)].max(axis=1)\n",
    "        min_ = df[list(c)].min(axis=1)\n",
    "        mid_ = df[list(c)].sum(axis=1)-min_-max_\n",
    "\n",
    "        df[f'{c[0]}_{c[1]}_{c[2]}_imb2'] = (max_-mid_)/(mid_-min_)\n",
    "    \n",
    "        \n",
    "    df.drop(columns=[\n",
    "        'date_id', \n",
    "    ], inplace=True)\n",
    "        \n",
    "    gc.collect()\n",
    "    \n",
    "    return df\n",
    "\n",
    "# # order by date\n",
    "# # train_date_sort = train.sort_values(by=[\"date_id\"])\n",
    "# trainset = train\n",
    "trainset = pd.read_feather(\"/kaggle/input/traindata-v1/train_data.fea\").set_index('index')\n",
    "y_all = trainset['target'].values\n",
    "X_all = trainset.drop(columns='target')\n",
    "# X_all = feat_eng(trainset.drop(columns='target'))\n",
    "X_all = X_all.replace(np.inf, np.nan).fillna(0)\n",
    "\n",
    "y_min = np.min(trainset[\"target\"].values)\n",
    "y_max = np.max(trainset[\"target\"].values)"
   ]
  },
  {
   "cell_type": "code",
   "execution_count": 3,
   "id": "69feff48",
   "metadata": {
    "execution": {
     "iopub.execute_input": "2023-10-23T06:00:52.773297Z",
     "iopub.status.busy": "2023-10-23T06:00:52.773009Z",
     "iopub.status.idle": "2023-10-23T06:00:52.777555Z",
     "shell.execute_reply": "2023-10-23T06:00:52.776730Z"
    },
    "papermill": {
     "duration": 0.011565,
     "end_time": "2023-10-23T06:00:52.780185",
     "exception": false,
     "start_time": "2023-10-23T06:00:52.768620",
     "status": "completed"
    },
    "tags": []
   },
   "outputs": [
    {
     "name": "stdout",
     "output_type": "stream",
     "text": [
      "-385.2898 446.07043\n"
     ]
    }
   ],
   "source": [
    "print(y_min, y_max)"
   ]
  },
  {
   "cell_type": "code",
   "execution_count": 4,
   "id": "afa897a2",
   "metadata": {
    "execution": {
     "iopub.execute_input": "2023-10-23T06:00:52.788954Z",
     "iopub.status.busy": "2023-10-23T06:00:52.788643Z",
     "iopub.status.idle": "2023-10-23T06:00:52.792408Z",
     "shell.execute_reply": "2023-10-23T06:00:52.791648Z"
    },
    "papermill": {
     "duration": 0.009911,
     "end_time": "2023-10-23T06:00:52.794240",
     "exception": false,
     "start_time": "2023-10-23T06:00:52.784329",
     "status": "completed"
    },
    "tags": []
   },
   "outputs": [],
   "source": [
    "# import os\n",
    "# os.chdir(r'/kaggle/working')\n",
    "# !tar -czf pytorch_model.tar.gz pytorch_model.bin\n",
    "# from IPython.display import FileLink\n",
    "# FileLink(r'pytorch_model.tar.gz')"
   ]
  },
  {
   "cell_type": "code",
   "execution_count": 5,
   "id": "9d31cb68",
   "metadata": {
    "execution": {
     "iopub.execute_input": "2023-10-23T06:00:52.801842Z",
     "iopub.status.busy": "2023-10-23T06:00:52.801598Z",
     "iopub.status.idle": "2023-10-23T06:00:56.469047Z",
     "shell.execute_reply": "2023-10-23T06:00:56.467887Z"
    },
    "papermill": {
     "duration": 3.673608,
     "end_time": "2023-10-23T06:00:56.471148",
     "exception": false,
     "start_time": "2023-10-23T06:00:52.797540",
     "status": "completed"
    },
    "tags": []
   },
   "outputs": [
    {
     "name": "stdout",
     "output_type": "stream",
     "text": [
      "(5237892, 71) (5237892, 71)\n",
      "The number of train data: (5237892, 17)\n",
      "False\n",
      "False\n"
     ]
    }
   ],
   "source": [
    "X_ = X_all[np.isfinite(y_all)]\n",
    "y_ = y_all[np.isfinite(y_all)]\n",
    "print(X_all.shape, X_.shape)\n",
    "\n",
    "print(f\"The number of train data: {train.shape}\")\n",
    "print(X_all.isnull().values.any())\n",
    "print(X_.isnull().values.any())"
   ]
  },
  {
   "cell_type": "code",
   "execution_count": 6,
   "id": "d166cc97",
   "metadata": {
    "execution": {
     "iopub.execute_input": "2023-10-23T06:00:56.480550Z",
     "iopub.status.busy": "2023-10-23T06:00:56.479984Z",
     "iopub.status.idle": "2023-10-23T06:00:56.490835Z",
     "shell.execute_reply": "2023-10-23T06:00:56.490002Z"
    },
    "papermill": {
     "duration": 0.01773,
     "end_time": "2023-10-23T06:00:56.492713",
     "exception": false,
     "start_time": "2023-10-23T06:00:56.474983",
     "status": "completed"
    },
    "tags": []
   },
   "outputs": [],
   "source": [
    "N_Folds = 4\n",
    "kf = KFold(n_splits=N_Folds, shuffle=True, random_state=42)\n",
    "# kf = KFold(n_splits=N_Folds, shuffle=False)\n",
    "mae_scores = []\n",
    "\n",
    "\n",
    "params = {\n",
    "    'objective': 'reg:squarederror',\n",
    "    'tree_method': 'gpu_hist',\n",
    "    'eval_metric': ['mae', 'rmse'],\n",
    "    'n_jobs': 1,\n",
    "    'random_state': 42,\n",
    "    'early_stopping_rounds': 50,\n",
    "    'n_estimators': 750,\n",
    "    'learning_rate': 0.05722202562412591,\n",
    "    'reg_alpha': 0.7158680243242609,\n",
    "    'reg_lambda': 0.026331404870987583,\n",
    "    'max_depth': 10,\n",
    "    'min_child_weight': 0.23205375649446058,\n",
    "    'subsample': 0.7026409022893567,\n",
    "    'colsample_bytree': 0.7906646681243178}\n",
    "\n",
    "# params = {\n",
    "#     \"learning_rate\": 0.05,\n",
    "#     \"n_estimators\": 500,\n",
    "#     \"max_depth\": 10,\n",
    "#     \"min_child_weight\": 1,\n",
    "#     \"subsample\": 0.8,\n",
    "#     \"colsample_bytree\":0.8,\n",
    "#     \"gamma\": 0,\n",
    "#     \"reg_alpha\": 0.1,\n",
    "#     \"reg_lambda\": 0.1,\n",
    "#     'tree_method': 'gpu_hist',\n",
    "#     \"early_stopping_rounds\": 50\n",
    "# }\n",
    "\n",
    "if is_train:\n",
    "#     X = X_all[X_all[\"date_id\"] >= 240]\n",
    "#     y = y_all[X_all[\"date_id\"] >= 240]\n",
    "    X = X_all\n",
    "    y = y_all\n",
    "    for fold, (train_idx, valid_idx) in enumerate(kf.split(X, y)):\n",
    "        print(train_idx)\n",
    "        X_train, X_valid = X.iloc[train_idx], X.iloc[valid_idx]\n",
    "        y_train, y_valid = y[train_idx], y[valid_idx]\n",
    "\n",
    "#         m = lgb.train(params, train_data, valid_sets=[train_data, valid_data], verbose_eval=50, early_stopping_rounds=50)\n",
    "        m = xgb.XGBRegressor(**params)\n",
    "        m.fit(X_train, y_train, \n",
    "                    eval_set=[(X_valid, y_valid)], \n",
    "                    verbose=50, \n",
    "                    \n",
    "                    )\n",
    "#         m = xgb.train(params, train_data, evals=[valid_data],callbacks=[eval_log,early_stop])\n",
    "        print(f\"Fold {fold+1} Trainning finished.\")\n",
    "\n",
    "        model_filename = f\"./model_fold_{fold+1}.pkl\"\n",
    "        joblib.dump(m, model_filename)\n",
    "        y_pred_valid = m.predict(X_valid)\n",
    "\n",
    "        y_pred_valid = np.nan_to_num(y_pred_valid)\n",
    "        y_valid = np.nan_to_num(y_valid)\n",
    "        mae = mean_absolute_error(y_valid, y_pred_valid)\n",
    "        mae_scores.append(mae)\n",
    "\n",
    "    # 计算五折平均的MAE\n",
    "    average_mae = np.mean(mae_scores)\n",
    "    print(f\"5 fold MAE: {average_mae}\")\n",
    "is_train = False"
   ]
  },
  {
   "cell_type": "code",
   "execution_count": 7,
   "id": "ee32af4a",
   "metadata": {
    "execution": {
     "iopub.execute_input": "2023-10-23T06:00:56.501551Z",
     "iopub.status.busy": "2023-10-23T06:00:56.500970Z",
     "iopub.status.idle": "2023-10-23T06:02:59.671227Z",
     "shell.execute_reply": "2023-10-23T06:02:59.670163Z"
    },
    "papermill": {
     "duration": 123.177638,
     "end_time": "2023-10-23T06:02:59.673943",
     "exception": false,
     "start_time": "2023-10-23T06:00:56.496305",
     "status": "completed"
    },
    "tags": []
   },
   "outputs": [
    {
     "name": "stdout",
     "output_type": "stream",
     "text": [
      "This version of the API is not optimized and should not be used to estimate the runtime of your code on the hidden test set.\n"
     ]
    }
   ],
   "source": [
    "def zero_sum(prices, volumes):\n",
    "    std_error = np.sqrt(volumes)\n",
    "    step = np.sum(prices)/np.sum(std_error)\n",
    "    out = prices-std_error*step\n",
    "    \n",
    "    return out\n",
    "\n",
    "if is_infer:\n",
    "    import optiver2023\n",
    "    env = optiver2023.make_env()\n",
    "    iter_test = env.iter_test()\n",
    "    counter = 0\n",
    "    predictions = []\n",
    "\n",
    "    for (test, revealed_targets, sample_prediction) in iter_test:\n",
    "        feat = feat_eng(test).replace(np.inf, np.nan).fillna(0)\n",
    "        fold_prediction = 0\n",
    "        for fold in range(0, N_Folds):\n",
    "            model_filename = f\"/kaggle/input/xgboost-oct22/model_fold_{fold+1}.pkl\"\n",
    "            m = joblib.load(model_filename)\n",
    "            fold_prediction += m.predict(feat)\n",
    "        \n",
    "        fold_prediction /= N_Folds\n",
    "        fold_prediction = zero_sum(fold_prediction, test.loc[:,'bid_size'] + test.loc[:,'ask_size'])\n",
    "        clipped_predictions = np.clip(fold_prediction, y_min, y_max)\n",
    "        sample_prediction['target'] = clipped_predictions\n",
    "        env.predict(sample_prediction)\n",
    "        counter += 1"
   ]
  },
  {
   "cell_type": "code",
   "execution_count": 8,
   "id": "3411f3a4",
   "metadata": {
    "execution": {
     "iopub.execute_input": "2023-10-23T06:02:59.683039Z",
     "iopub.status.busy": "2023-10-23T06:02:59.682679Z",
     "iopub.status.idle": "2023-10-23T06:02:59.698684Z",
     "shell.execute_reply": "2023-10-23T06:02:59.697797Z"
    },
    "papermill": {
     "duration": 0.022679,
     "end_time": "2023-10-23T06:02:59.700652",
     "exception": false,
     "start_time": "2023-10-23T06:02:59.677973",
     "status": "completed"
    },
    "tags": []
   },
   "outputs": [
    {
     "data": {
      "text/html": [
       "<div>\n",
       "<style scoped>\n",
       "    .dataframe tbody tr th:only-of-type {\n",
       "        vertical-align: middle;\n",
       "    }\n",
       "\n",
       "    .dataframe tbody tr th {\n",
       "        vertical-align: top;\n",
       "    }\n",
       "\n",
       "    .dataframe thead th {\n",
       "        text-align: right;\n",
       "    }\n",
       "</style>\n",
       "<table border=\"1\" class=\"dataframe\">\n",
       "  <thead>\n",
       "    <tr style=\"text-align: right;\">\n",
       "      <th></th>\n",
       "      <th>row_id</th>\n",
       "      <th>target</th>\n",
       "    </tr>\n",
       "  </thead>\n",
       "  <tbody>\n",
       "    <tr>\n",
       "      <th>0</th>\n",
       "      <td>480_540_0</td>\n",
       "      <td>-1.602496</td>\n",
       "    </tr>\n",
       "    <tr>\n",
       "      <th>1</th>\n",
       "      <td>480_540_1</td>\n",
       "      <td>-0.181587</td>\n",
       "    </tr>\n",
       "    <tr>\n",
       "      <th>2</th>\n",
       "      <td>480_540_2</td>\n",
       "      <td>0.479768</td>\n",
       "    </tr>\n",
       "    <tr>\n",
       "      <th>3</th>\n",
       "      <td>480_540_3</td>\n",
       "      <td>-1.951333</td>\n",
       "    </tr>\n",
       "    <tr>\n",
       "      <th>4</th>\n",
       "      <td>480_540_4</td>\n",
       "      <td>-1.663855</td>\n",
       "    </tr>\n",
       "    <tr>\n",
       "      <th>...</th>\n",
       "      <td>...</td>\n",
       "      <td>...</td>\n",
       "    </tr>\n",
       "    <tr>\n",
       "      <th>195</th>\n",
       "      <td>480_540_195</td>\n",
       "      <td>-2.101570</td>\n",
       "    </tr>\n",
       "    <tr>\n",
       "      <th>196</th>\n",
       "      <td>480_540_196</td>\n",
       "      <td>-1.935440</td>\n",
       "    </tr>\n",
       "    <tr>\n",
       "      <th>197</th>\n",
       "      <td>480_540_197</td>\n",
       "      <td>-0.206554</td>\n",
       "    </tr>\n",
       "    <tr>\n",
       "      <th>198</th>\n",
       "      <td>480_540_198</td>\n",
       "      <td>0.258166</td>\n",
       "    </tr>\n",
       "    <tr>\n",
       "      <th>199</th>\n",
       "      <td>480_540_199</td>\n",
       "      <td>-3.361928</td>\n",
       "    </tr>\n",
       "  </tbody>\n",
       "</table>\n",
       "<p>200 rows × 2 columns</p>\n",
       "</div>"
      ],
      "text/plain": [
       "          row_id    target\n",
       "0      480_540_0 -1.602496\n",
       "1      480_540_1 -0.181587\n",
       "2      480_540_2  0.479768\n",
       "3      480_540_3 -1.951333\n",
       "4      480_540_4 -1.663855\n",
       "..           ...       ...\n",
       "195  480_540_195 -2.101570\n",
       "196  480_540_196 -1.935440\n",
       "197  480_540_197 -0.206554\n",
       "198  480_540_198  0.258166\n",
       "199  480_540_199 -3.361928\n",
       "\n",
       "[200 rows x 2 columns]"
      ]
     },
     "execution_count": 8,
     "metadata": {},
     "output_type": "execute_result"
    }
   ],
   "source": [
    "sample_prediction"
   ]
  }
 ],
 "metadata": {
  "kernelspec": {
   "display_name": "Python 3",
   "language": "python",
   "name": "python3"
  },
  "language_info": {
   "codemirror_mode": {
    "name": "ipython",
    "version": 3
   },
   "file_extension": ".py",
   "mimetype": "text/x-python",
   "name": "python",
   "nbconvert_exporter": "python",
   "pygments_lexer": "ipython3",
   "version": "3.10.12"
  },
  "papermill": {
   "default_parameters": {},
   "duration": 175.920188,
   "end_time": "2023-10-23T06:03:01.126283",
   "environment_variables": {},
   "exception": null,
   "input_path": "__notebook__.ipynb",
   "output_path": "__notebook__.ipynb",
   "parameters": {},
   "start_time": "2023-10-23T06:00:05.206095",
   "version": "2.4.0"
  }
 },
 "nbformat": 4,
 "nbformat_minor": 5
}